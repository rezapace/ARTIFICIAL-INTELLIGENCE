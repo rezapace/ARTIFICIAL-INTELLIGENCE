{
  "nbformat": 4,
  "nbformat_minor": 0,
  "metadata": {
    "kernelspec": {
      "display_name": "Python 3",
      "language": "python",
      "name": "python3"
    },
    "language_info": {
      "codemirror_mode": {
        "name": "ipython",
        "version": 3
      },
      "file_extension": ".py",
      "mimetype": "text/x-python",
      "name": "python",
      "nbconvert_exporter": "python",
      "pygments_lexer": "ipython3",
      "version": "3.6.9"
    },
    "colab": {
      "provenance": []
    }
  },
  "cells": [
    {
      "cell_type": "markdown",
      "metadata": {
        "id": "FwLn9JPIIXEe"
      },
      "source": [
        "## Python Matriks dan NumPy Array"
      ]
    },
    {
      "cell_type": "markdown",
      "metadata": {
        "id": "hMxjhk6tIXEi"
      },
      "source": [
        "---"
      ]
    },
    {
      "cell_type": "markdown",
      "metadata": {
        "id": "qhvWyl08IXEi"
      },
      "source": [
        "Matriks adalah struktur data dua dimensi di mana angka-angka disusun menjadi baris dan kolom. Contohnya :"
      ]
    },
    {
      "cell_type": "markdown",
      "metadata": {
        "id": "HrTAieZDIXEj"
      },
      "source": [
        "<img src=\"https://cdn.programiz.com/sites/tutorial2program/files/matrix.jpg\">"
      ]
    },
    {
      "cell_type": "markdown",
      "metadata": {
        "id": "PvIS7ejsIXEj"
      },
      "source": [
        "Matriks ini adalah matriks 3x4 (dibaca \"tiga kali empat\") karena memiliki 3 baris dan 4 kolom."
      ]
    },
    {
      "cell_type": "markdown",
      "metadata": {
        "id": "JarHTv28IXEj"
      },
      "source": [
        "### Python Matriks\n",
        "Python tidak memiliki tipe built-in untuk matriks. Namun, kita dapat memperlakukan list di dalam list sebagai matriks. Sebagai contoh:"
      ]
    },
    {
      "cell_type": "code",
      "metadata": {
        "id": "uRaX3BDgIXEj"
      },
      "source": [
        "A = [[1, 4, 5], \n",
        "    [-5, 8, 9]]"
      ],
      "execution_count": null,
      "outputs": []
    },
    {
      "cell_type": "markdown",
      "metadata": {
        "id": "Xh7ioJ_XIXEk"
      },
      "source": [
        "Kita dapat memperlakukan list ini sebagai matriks yang memiliki 2 baris dan 3 kolom.\n",
        "<img src=\"https://cdn.programiz.com/sites/tutorial2program/files/matrix-python-example.jpg\">"
      ]
    },
    {
      "cell_type": "markdown",
      "metadata": {
        "id": "B8cewzzlIXEk"
      },
      "source": [
        "**Contoh Program**"
      ]
    },
    {
      "cell_type": "code",
      "metadata": {
        "id": "3I6d7U95IXEk"
      },
      "source": [
        "A = [[1, 4, 5, 12], \n",
        "    [-5, 8, 9, 0],\n",
        "    [-6, 7, 11, 19]]"
      ],
      "execution_count": null,
      "outputs": []
    },
    {
      "cell_type": "markdown",
      "metadata": {
        "id": "pziRna7vIXEk"
      },
      "source": [
        "Untuk mencetak atau mendapatkan seluruh nilai yang ada pada matriks di atas dapa digunakan perintah :"
      ]
    },
    {
      "cell_type": "code",
      "metadata": {
        "id": "5m76ZWnPIXEk"
      },
      "source": [
        "print(\"A =\", A)"
      ],
      "execution_count": null,
      "outputs": []
    },
    {
      "cell_type": "markdown",
      "metadata": {
        "id": "1-mNX2h4IXEk"
      },
      "source": [
        "Selain itu, kita juga dapat mendapatkan elemen tertentu dari matriks tersebut dengan cara :"
      ]
    },
    {
      "cell_type": "code",
      "metadata": {
        "id": "IBheM91CIXEl"
      },
      "source": [
        "print(\"A[1] =\", A[1])      # Baris ke-2\n",
        "\n",
        "print(\"A[1][2] =\", A[1][2])   # Elemen ke-3 dari baris ke-2\n",
        "\n",
        "print(\"A[0][-1] =\", A[0][-1])   # Elemen terakhir dari Baris ke-1"
      ],
      "execution_count": null,
      "outputs": []
    },
    {
      "cell_type": "markdown",
      "metadata": {
        "id": "NjQSgHGsIXEl"
      },
      "source": [
        "---\n",
        "### NumPy Array\n",
        "NumPy adalah sebuah library untuk komputasi ilmiah yang memiliki dukungan untuk objek array berdimensi-N. NumPy menyediakan deretan angka multidimensi (yang sebenarnya adalah sebuah objek). Contohnya:"
      ]
    },
    {
      "cell_type": "code",
      "metadata": {
        "id": "Ln0nI_-xIXEl",
        "outputId": "3411ccbe-4374-4bee-f09d-335b4cc9a131"
      },
      "source": [
        "import numpy as np\n",
        "\n",
        "a = np.array([1, 2, 3])\n",
        "\n",
        "print(a)               \n",
        "\n",
        "print(type(a))         "
      ],
      "execution_count": null,
      "outputs": [
        {
          "output_type": "stream",
          "text": [
            "[1 2 3]\n",
            "<class 'numpy.ndarray'>\n"
          ],
          "name": "stdout"
        }
      ]
    },
    {
      "cell_type": "markdown",
      "metadata": {
        "id": "C1yrxNbSIXEl"
      },
      "source": [
        "Seperti yang Anda lihat, kelas array NumPy disebut ndarray.\n",
        "\n",
        "---\n",
        "\n",
        "### Bagaimana cara membuat array NumPy?\n",
        "Ada beberapa cara untuk membuat array NumPy.\n",
        "\n",
        "1. Array bilangan bulat, float dan Bilangan kompleks"
      ]
    },
    {
      "cell_type": "code",
      "metadata": {
        "id": "G0LLajtvIXEm",
        "outputId": "61816a24-1be8-41cb-dd31-6adcf50d674c"
      },
      "source": [
        "A = np.array([[1, 2, 3], [3, 4, 5]]) # Bilangan bulat\n",
        "print(A)"
      ],
      "execution_count": null,
      "outputs": [
        {
          "output_type": "stream",
          "text": [
            "[[1 2 3]\n",
            " [3 4 5]]\n"
          ],
          "name": "stdout"
        }
      ]
    },
    {
      "cell_type": "code",
      "metadata": {
        "id": "n-AWseMuIXEm",
        "outputId": "091e0a5f-4458-47f5-a3f6-238534f2907c"
      },
      "source": [
        "A = np.array([[1.1, 2, 3], [3, 4, 5]]) # float\n",
        "print(A)"
      ],
      "execution_count": null,
      "outputs": [
        {
          "output_type": "stream",
          "text": [
            "[[1.1 2.  3. ]\n",
            " [3.  4.  5. ]]\n"
          ],
          "name": "stdout"
        }
      ]
    },
    {
      "cell_type": "code",
      "metadata": {
        "id": "_34mX1LjIXEm",
        "outputId": "80a4f314-e266-4fba-f279-dc859737060e"
      },
      "source": [
        "A = np.array([[1, 2, 3], [3, 4, 5]], dtype = complex) # bilangan kompleks\n",
        "print(A)"
      ],
      "execution_count": null,
      "outputs": [
        {
          "output_type": "stream",
          "text": [
            "[[1.+0.j 2.+0.j 3.+0.j]\n",
            " [3.+0.j 4.+0.j 5.+0.j]]\n"
          ],
          "name": "stdout"
        }
      ]
    },
    {
      "cell_type": "markdown",
      "metadata": {
        "id": "Uhr3eNwEIXEm"
      },
      "source": [
        "---\n",
        "2. Array angka nol dan satu"
      ]
    },
    {
      "cell_type": "code",
      "metadata": {
        "id": "gFyaE-wRIXEm",
        "outputId": "1b2ced06-75e6-4cdb-ab3e-3048063749a1"
      },
      "source": [
        "zeroes_array = np.zeros( (2, 3) )\n",
        "print(zeroes_array)"
      ],
      "execution_count": null,
      "outputs": [
        {
          "output_type": "stream",
          "text": [
            "[[0. 0. 0.]\n",
            " [0. 0. 0.]]\n"
          ],
          "name": "stdout"
        }
      ]
    },
    {
      "cell_type": "markdown",
      "metadata": {
        "id": "25O-9wYXIXEn"
      },
      "source": [
        "Selain itu, kita juga dapat menetapkan `dtype` menjadi 32 bit (4 byte). Karenanya, array ini dapat mengambil nilai dari <code>-2<sup>-31</sup></code> hingga <code>2<sup>-31</sup>-1</code>."
      ]
    },
    {
      "cell_type": "code",
      "metadata": {
        "id": "LOKCfYgZIXEn",
        "outputId": "4a647915-85ac-461e-eabf-16241e9c940c"
      },
      "source": [
        "ones_array = np.ones( (1, 5), dtype=np.int32 ) # menentukan dtype\n",
        "print(ones_array)"
      ],
      "execution_count": null,
      "outputs": [
        {
          "output_type": "stream",
          "text": [
            "[[1 1 1 1 1]]\n"
          ],
          "name": "stdout"
        }
      ]
    },
    {
      "cell_type": "markdown",
      "metadata": {
        "id": "yg8LB8D7IXEn"
      },
      "source": [
        "---\n",
        "\n",
        "### Operasi Matriks\n",
        "\n",
        "Pada contoh program selanjutnya akan dibuat 3 jenis program yaitu : penjumlahan dua buah matriks, perkalian dua buah matriks dan transpos sebuah matriks. Jika menggunakan program python biasa, kita memerlukan `nested lists` untuk membuat program tersebut. Namun ada cara yang lebih baik yaitu menggunakan library NumPy.\n",
        "\n",
        "#### Penambahan Dua Matriks\n",
        "\n",
        "<img src=\"https://i1.faceprep.in/Companies-1/matrix-addition-in-python.png\" width=\"35%\">\n",
        "Kita dapat menggunakan operator `+` untuk menambahkan elemen yang sesuai dari dua matriks NumPy."
      ]
    },
    {
      "cell_type": "code",
      "metadata": {
        "id": "UKxlqR-xIXEn",
        "outputId": "f3737dc6-5e4c-417a-de42-f67d1300c7a7"
      },
      "source": [
        "A = np.array(\n",
        "    [[3, 4], \n",
        "     [2, 1]])\n",
        "\n",
        "B = np.array(\n",
        "    [[1, 5], \n",
        "     [3, 7]])\n",
        "\n",
        "C = A + B   \n",
        "\n",
        "print(C)"
      ],
      "execution_count": null,
      "outputs": [
        {
          "output_type": "stream",
          "text": [
            "[[4 9]\n",
            " [5 8]]\n"
          ],
          "name": "stdout"
        }
      ]
    },
    {
      "cell_type": "markdown",
      "metadata": {
        "id": "x3AJMvh-IXEn"
      },
      "source": [
        "---\n",
        "#### Perkalian Dua Matriks\n",
        "\n",
        "<img src=\"https://i1.faceprep.in/Companies-1/matrix-multiplication-in-python.png\" width=\"40%\">\n",
        "Untuk mengalikan dua matriks, kita menggunakan metode `dot()`. \n",
        "\n",
        "**Catatan**: `*` digunakan untuk perkalian array (perkalian elemen yang sesuai dari dua array) bukan perkalian matriks."
      ]
    },
    {
      "cell_type": "code",
      "metadata": {
        "id": "ZymGcHK-IXEn",
        "outputId": "0984cb31-377f-433f-dc75-335b1f16e881"
      },
      "source": [
        "A = np.array(\n",
        "    [[3, 4], \n",
        "     [2, 1]])\n",
        "\n",
        "B = np.array(\n",
        "    [[1, 5], \n",
        "     [3, 7]])\n",
        "\n",
        "C = A.dot(B)\n",
        "\n",
        "print(C)"
      ],
      "execution_count": null,
      "outputs": [
        {
          "output_type": "stream",
          "text": [
            "[[15 43]\n",
            " [ 5 17]]\n"
          ],
          "name": "stdout"
        }
      ]
    },
    {
      "cell_type": "markdown",
      "metadata": {
        "id": "50cpUrOuIXEo"
      },
      "source": [
        "---\n",
        "#### Transpos Matriks\n",
        "\n",
        "<img src=\"https://i1.faceprep.in/Companies-1/transpose-of-a-matrix-in-python.png\" width=\"35%\">\n",
        "Kita dapat menggunakan `numpy.transpose` untuk menghitung transpos matriks."
      ]
    },
    {
      "cell_type": "code",
      "metadata": {
        "id": "aZ2ZWhqoIXEo",
        "outputId": "e787e6de-0a2a-4b5e-c383-80f79819e97a"
      },
      "source": [
        "A = np.array(\n",
        "    [[3, 4], \n",
        "     [2, 1]])\n",
        "\n",
        "print(A.transpose())"
      ],
      "execution_count": null,
      "outputs": [
        {
          "output_type": "stream",
          "text": [
            "[[3 2]\n",
            " [4 1]]\n"
          ],
          "name": "stdout"
        }
      ]
    },
    {
      "cell_type": "markdown",
      "metadata": {
        "id": "14WAdreLIXEo"
      },
      "source": [
        "---\n",
        "\n",
        "## Tugas\n",
        "Pada contoh program di atas, sudah di buat 3 program dengan memanfaatkan library NumPy yaitu : \n",
        "1. Penambahan dua matriks\n",
        "2. Perkalian dua matriks\n",
        "3. Transpos matriks\n",
        "\n",
        "Tugas anda adalah membuat 3 program tersebut tanpa menggunakan library NumPy.\n",
        "\n",
        "---"
      ]
    },
    {
      "cell_type": "markdown",
      "metadata": {
        "id": "vDeZQYd5L_l7"
      },
      "source": [
        "1) Penambahan dua matriks"
      ]
    },
    {
      "cell_type": "code",
      "metadata": {
        "colab": {
          "base_uri": "https://localhost:8080/"
        },
        "id": "BIOe8s97JPAu",
        "outputId": "d61122d0-7612-435a-9262-15020899db75"
      },
      "source": [
        "  mat1 = [\n",
        "    [16, 4],\n",
        "    [20, 28],\n",
        "]\n",
        "\n",
        "mat2 = [\n",
        "    [24, 28],\n",
        "    [32, 36],\n",
        "]\n",
        "\n",
        "\n",
        "for x in range(0, len(mat1)):\n",
        "    for y in range(0, len(mat1[0])):\n",
        "        print (mat1[x][y] + mat2[x][y], end=' '),\n",
        "    print"
      ],
      "execution_count": null,
      "outputs": [
        {
          "output_type": "stream",
          "text": [
            "40 32 52 64 "
          ],
          "name": "stdout"
        }
      ]
    },
    {
      "cell_type": "markdown",
      "metadata": {
        "id": "U3WJQ-d0MToM"
      },
      "source": [
        "2) Perkalian dua matriks"
      ]
    },
    {
      "cell_type": "code",
      "metadata": {
        "colab": {
          "base_uri": "https://localhost:8080/"
        },
        "id": "tMJab2H1JPR8",
        "outputId": "64d8b556-5b55-4a2d-8d29-46b5aba7c509"
      },
      "source": [
        "mat1 = [\n",
        "    [16, 4],\n",
        "    [20, 28],\n",
        "]\n",
        "\n",
        "mat2 = [\n",
        "    [24, 28],\n",
        "    [32, 36],\n",
        "]\n",
        "\n",
        "mat3 = []\n",
        "\n",
        "for x in range(0, len(mat1)):\n",
        "    row = []\n",
        "    for y in range(0, len(mat1[0])):\n",
        "        total = 0\n",
        "        for z in range(0, len(mat1)):\n",
        "            total = total + (mat1[x][z] * mat2[z][y])\n",
        "        row.append(total)\n",
        "    mat3.append(row)\n",
        "\n",
        "\n",
        "for x in range(0, len(mat3)):\n",
        "    for y in range(0, len(mat3[0])):\n",
        "        print (mat3[x][y], end=' ')\n",
        "    print ()"
      ],
      "execution_count": null,
      "outputs": [
        {
          "output_type": "stream",
          "text": [
            "512 592 \n",
            "1376 1568 \n"
          ],
          "name": "stdout"
        }
      ]
    },
    {
      "cell_type": "markdown",
      "metadata": {
        "id": "EAmUgO9cMZjM"
      },
      "source": [
        "3) Transpos matriks"
      ]
    },
    {
      "cell_type": "code",
      "metadata": {
        "colab": {
          "base_uri": "https://localhost:8080/"
        },
        "id": "HYxItfpIJPbl",
        "outputId": "3385b1ad-b7a2-443d-f264-4f812d483f49"
      },
      "source": [
        "A = [[6,10],\n",
        "    [14,16],]\n",
        "\n",
        "result = [[0,0],\n",
        "         [0,0]]\n",
        "\n",
        "# iterate through rows\n",
        "for i in range(len(A)):\n",
        "   # iterate through columns\n",
        "   for j in range(len(A[0])):\n",
        "       result[j][i] = A[i][j]\n",
        "\n",
        "for r in result:\n",
        "   print(r)"
      ],
      "execution_count": null,
      "outputs": [
        {
          "output_type": "stream",
          "text": [
            "[6, 14]\n",
            "[10, 16]\n"
          ],
          "name": "stdout"
        }
      ]
    }
  ]
}