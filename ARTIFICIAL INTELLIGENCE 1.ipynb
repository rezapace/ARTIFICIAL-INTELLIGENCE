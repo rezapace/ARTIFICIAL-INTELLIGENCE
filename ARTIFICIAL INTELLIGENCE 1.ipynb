{
  "cells": [
    {
      "cell_type": "code",
      "execution_count": null,
      "metadata": {
        "id": "6FEYdLwbIrxo"
      },
      "outputs": [],
      "source": [
        "awal = 11\n",
        "akhir = 25"
      ]
    },
    {
      "cell_type": "code",
      "execution_count": null,
      "metadata": {
        "id": "yPX2b7JHIrxr",
        "outputId": "97acc399-ccaf-4ea3-b6ea-282a0fe25397"
      },
      "outputs": [
        {
          "name": "stdout",
          "output_type": "stream",
          "text": [
            "11\n",
            "13\n",
            "17\n",
            "19\n",
            "23\n"
          ]
        }
      ],
      "source": [
        "for i in range(awal, akhir+1): \n",
        "  if i>1: \n",
        "    for j in range(2,i): \n",
        "        if(i % j==0): \n",
        "            break\n",
        "    else: \n",
        "        print(i)"
      ]
    },
    {
      "cell_type": "code",
      "execution_count": null,
      "metadata": {
        "id": "HWQ_5mM2Irxs"
      },
      "outputs": [],
      "source": [
        "def factorial(n): \n",
        "      \n",
        "    return 1 if (n==1 or n==0) else n * factorial(n - 1);"
      ]
    },
    {
      "cell_type": "code",
      "execution_count": null,
      "metadata": {
        "id": "K-i-kuNvIrxt"
      },
      "outputs": [],
      "source": [
        "num = 5;"
      ]
    },
    {
      "cell_type": "code",
      "execution_count": null,
      "metadata": {
        "id": "DThmL-lkIrxu",
        "outputId": "6a3bff75-997d-4f85-9edb-96430383a3db"
      },
      "outputs": [
        {
          "name": "stdout",
          "output_type": "stream",
          "text": [
            "Factorial of 5 is 120\n"
          ]
        }
      ],
      "source": [
        "print(\"Factorial of\",num,\"is\", factorial(num))"
      ]
    },
    {
      "cell_type": "code",
      "execution_count": null,
      "metadata": {
        "id": "-0zMJod2Irxu"
      },
      "outputs": [],
      "source": [
        "def Fibonacci(n): \n",
        "    if n<0: \n",
        "        print(\"Incorrect input\") \n",
        "    # Nilai Fibonacci pertama 0 \n",
        "    elif n==1: \n",
        "        return 0\n",
        "    # Nilai Fibonacci kedua 1 \n",
        "    elif n==2: \n",
        "        return 1\n",
        "    else: \n",
        "        return Fibonacci(n-1)+Fibonacci(n-2)"
      ]
    },
    {
      "cell_type": "code",
      "execution_count": null,
      "metadata": {
        "id": "lGWT7PE-Irxv"
      },
      "outputs": [],
      "source": [
        "n = 9"
      ]
    },
    {
      "cell_type": "code",
      "execution_count": null,
      "metadata": {
        "id": "ck4ztOnPIrxv",
        "outputId": "cca8a4ad-8069-4cdf-cf2b-79168344939c"
      },
      "outputs": [
        {
          "name": "stdout",
          "output_type": "stream",
          "text": [
            "Bilangan fibonacci yang ke 9 adalah 21\n"
          ]
        }
      ],
      "source": [
        "print(\"Bilangan fibonacci yang ke\" , n , \"adalah\" , Fibonacci(n)) "
      ]
    },
    {
      "cell_type": "code",
      "execution_count": null,
      "metadata": {
        "id": "WDjEfbf5Irxw"
      },
      "outputs": [],
      "source": [
        "word = \"Hallo dunia\""
      ]
    },
    {
      "cell_type": "code",
      "execution_count": null,
      "metadata": {
        "id": "yOHrfyGgIrxx"
      },
      "outputs": [],
      "source": [
        "def HitungKalimat(kalimat): \n",
        "    jumlah = 0    \n",
        "    for i in kalimat: \n",
        "        jumlah += 1\n",
        "    return jumlah"
      ]
    },
    {
      "cell_type": "code",
      "execution_count": null,
      "metadata": {
        "id": "9wy4-s5LIrxy",
        "outputId": "8c584a74-9183-4254-f113-536ce99c8fc8"
      },
      "outputs": [
        {
          "name": "stdout",
          "output_type": "stream",
          "text": [
            "Terdapat 11 karakter\n"
          ]
        }
      ],
      "source": [
        "print(\"Terdapat\", HitungKalimat(word), \"karakter\")"
      ]
    },
    {
      "cell_type": "code",
      "execution_count": null,
      "metadata": {
        "id": "UDxaTLMKIrxy"
      },
      "outputs": [],
      "source": [
        "kata1 = \"Hallo\"\n",
        "kata2 = \"Dunia\""
      ]
    },
    {
      "cell_type": "code",
      "execution_count": null,
      "metadata": {
        "id": "Dj3iL1eUIrxy",
        "outputId": "6cd69b1a-e9bc-4032-cdb0-fb75995cc4ac"
      },
      "outputs": [
        {
          "name": "stdout",
          "output_type": "stream",
          "text": [
            "Hallo Dunia\n"
          ]
        }
      ],
      "source": [
        "hasil = kata1 + \" \" + kata2\n",
        "\n",
        "print(hasil)"
      ]
    },
    {
      "cell_type": "code",
      "execution_count": null,
      "metadata": {
        "id": "oMPoq6N_Irxz"
      },
      "outputs": [],
      "source": [
        "import numpy as np\n",
        "import cupy as cp\n",
        "import time"
      ]
    },
    {
      "cell_type": "code",
      "execution_count": null,
      "metadata": {
        "id": "YNUoRfLCIrxz",
        "outputId": "c17ef33e-e229-4a85-8d79-c86116db1d05"
      },
      "outputs": [
        {
          "name": "stdout",
          "output_type": "stream",
          "text": [
            "Waktu yang diperlukan untuk CPU : 0.9193401336669922\n"
          ]
        }
      ],
      "source": [
        "### Numpy dan CPU\n",
        "s = time.time()\n",
        "x_cpu = np.ones((1000,1000,1000))\n",
        "e = time.time()\n",
        "print(\"Waktu yang diperlukan untuk CPU :\", e - s)"
      ]
    },
    {
      "cell_type": "code",
      "execution_count": null,
      "metadata": {
        "id": "KF4SJQnvIrxz",
        "outputId": "0b956e7e-a1a6-4c27-e45f-5d4cb984b57d"
      },
      "outputs": [
        {
          "name": "stdout",
          "output_type": "stream",
          "text": [
            "Waktu yang diperlukan untuk GPU : 0.4207305908203125\n"
          ]
        }
      ],
      "source": [
        "### CuPy dan GPU\n",
        "s = time.time()\n",
        "x_gpu = cp.ones((1000,1000,1000))\n",
        "cp.cuda.Stream.null.synchronize()\n",
        "e = time.time()\n",
        "print(\"Waktu yang diperlukan untuk GPU :\", e - s)"
      ]
    },
    {
      "cell_type": "code",
      "execution_count": null,
      "metadata": {
        "id": "PKskw2mlIrx0"
      },
      "outputs": [],
      "source": [
        "### Nilai yang akan dikalikan dengan array\n",
        "n = 5"
      ]
    },
    {
      "cell_type": "code",
      "execution_count": null,
      "metadata": {
        "id": "M4B3ROMZIrx1",
        "outputId": "2fa2ff05-5d3c-4f5f-d4b8-ad5455a7b1a4"
      },
      "outputs": [
        {
          "name": "stdout",
          "output_type": "stream",
          "text": [
            "Waktu yang diperlukan untuk CPU : 0.6699247360229492\n"
          ]
        }
      ],
      "source": [
        "### Numpy dan CPU\n",
        "s = time.time()\n",
        "x_cpu *= n\n",
        "e = time.time()\n",
        "print(\"Waktu yang diperlukan untuk CPU :\", e - s)"
      ]
    },
    {
      "cell_type": "code",
      "execution_count": null,
      "metadata": {
        "id": "rcqfxpncIrx1",
        "outputId": "63ef9ea2-8504-415a-f87c-fbaf6403fff5"
      },
      "outputs": [
        {
          "name": "stdout",
          "output_type": "stream",
          "text": [
            "Waktu yang diperlukan untuk GPU : 0.013177633285522461\n"
          ]
        }
      ],
      "source": [
        "### CuPy and GPU\n",
        "s = time.time()\n",
        "x_gpu *= n\n",
        "cp.cuda.Stream.null.synchronize()\n",
        "e = time.time()\n",
        "print(\"Waktu yang diperlukan untuk GPU :\", e - s)"
      ]
    },
    {
      "cell_type": "code",
      "execution_count": null,
      "metadata": {
        "id": "roCXQsvAIrx2"
      },
      "outputs": [],
      "source": []
    }
  ],
  "metadata": {
    "kernelspec": {
      "display_name": "Python 3",
      "language": "python",
      "name": "python3"
    },
    "language_info": {
      "codemirror_mode": {
        "name": "ipython",
        "version": 3
      },
      "file_extension": ".py",
      "mimetype": "text/x-python",
      "name": "python",
      "nbconvert_exporter": "python",
      "pygments_lexer": "ipython3",
      "version": "3.6.9"
    },
    "colab": {
      "provenance": []
    }
  },
  "nbformat": 4,
  "nbformat_minor": 0
}