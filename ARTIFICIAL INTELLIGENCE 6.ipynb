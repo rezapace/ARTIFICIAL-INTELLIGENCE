{
  "nbformat": 4,
  "nbformat_minor": 0,
  "metadata": {
    "kernelspec": {
      "display_name": "Python 3",
      "language": "python",
      "name": "python3"
    },
    "language_info": {
      "codemirror_mode": {
        "name": "ipython",
        "version": 3
      },
      "file_extension": ".py",
      "mimetype": "text/x-python",
      "name": "python",
      "nbconvert_exporter": "python",
      "pygments_lexer": "ipython3",
      "version": "3.6.9"
    },
    "colab": {
      "provenance": []
    }
  },
  "cells": [
    {
      "cell_type": "markdown",
      "metadata": {
        "id": "-B1jnDVcgMQW"
      },
      "source": [
        "#**ISI NAMA**\n",
        "\n",
        "> KELAS : ISI KELAS\n",
        "\n",
        "> NPM   : ISI NPM\n",
        "\n",
        "\n",
        "\n"
      ]
    },
    {
      "cell_type": "code",
      "metadata": {
        "colab": {
          "base_uri": "https://localhost:8080/",
          "height": 248
        },
        "id": "I4g-2uibf-pP",
        "outputId": "30cca9b6-6387-4243-996e-ba6394a71381"
      },
      "source": [
        "import networkx as nx\n",
        "G_symmetric = nx.Graph()\n",
        "G_symmetric.add_edge('Amitabh Bachchan','Abhishek Bachchan')\n",
        "G_symmetric.add_edge('Amitabh Bachchan','Aamir Khan')\n",
        "G_symmetric.add_edge('Amitabh Bachchan','Akshay Kumar')\n",
        "G_symmetric.add_edge('Amitabh Bachchan','Dev Anand')\n",
        "G_symmetric.add_edge('Abhishek Bachchan','Aamir Khan')\n",
        "G_symmetric.add_edge('Abhishek Bachchan','Akshay Kumar')\n",
        "G_symmetric.add_edge('Abhishek Bachchan','Dev Anand')\n",
        "G_symmetric.add_edge('Dev Anand','Aamir Khan')\n",
        "nx.draw_networkx(G_symmetric)\n",
        "G_asymmetric = nx.DiGraph()\n",
        "G_asymmetric.add_edge('A','B')\n",
        "G_asymmetric.add_edge('A','D')\n",
        "G_asymmetric.add_edge('C','A')\n",
        "G_asymmetric.add_edge('D','E')\n",
        "G_asymmetric.add_edge('A','E')"
      ],
      "execution_count": null,
      "outputs": [
        {
          "output_type": "display_data",
          "data": {
            "image/png": "[encoded data removed]",
            "text/plain": [
              "<Figure size 432x288 with 1 Axes>"
            ]
          },
          "metadata": {
            "tags": []
          }
        }
      ]
    },
    {
      "cell_type": "markdown",
      "metadata": {
        "id": "B9exScfJgXiw"
      },
      "source": [
        "#Logika Program :\n",
        "\n",
        "Dari namanya sudah jelas bahwa jejaring ini tidak simetrik dalam arti bahwa arah hubungan adalah tunggal atau bisa saja 2 arah hubungan tapi tipe hubungan keduanya berbeda\n",
        "Kadangkala kita perlu menggunakan spring layout agar visualisasi jejaring lebih mudah dimengerti. Anda bisa klik run untuk blok dibawah sampai mendapatkan visualisasi yang sesuai.\n"
      ]
    },
    {
      "cell_type": "code",
      "metadata": {
        "colab": {
          "base_uri": "https://localhost:8080/",
          "height": 266
        },
        "id": "9tinlRKCf-pU",
        "outputId": "c4e7f20f-4cf6-401e-e39b-a210a0071642"
      },
      "source": [
        "import matplotlib.pyplot as plt\n",
        "plt.style.use('seaborn-white')\n",
        "import numpy as np\n",
        "ax1 = plt.axes()  # standard axes\n",
        "ax2 = plt.axes([0.65, 0.65, 0.2, 0.2])"
      ],
      "execution_count": null,
      "outputs": [
        {
          "output_type": "display_data",
          "data": {
            "image/png": "[encoded data removed]",
            "text/plain": [
              "<Figure size 432x288 with 2 Axes>"
            ]
          },
          "metadata": {
            "tags": []
          }
        }
      ]
    },
    {
      "cell_type": "markdown",
      "metadata": {
        "id": "2Eb202zegb62"
      },
      "source": [
        "#Logika program :\n",
        "import matplotlib.pyplot as plt Matplotlib adalah library Python 2D yang dapat \n",
        "menghasilkan plot dengan kualitas tinggi dalam berbagai format dan dapat \n",
        "digunakan di banyak platform\n",
        "plt.style.use('seaborn-white')warna yang di pilih adalah warna putih\n",
        "\n",
        "import numpy as np\n",
        "\n",
        "ax1 = plt.axes()  # standard axes\n",
        "\n",
        "ax2 = plt.axes([0.65, 0.65, 0.2, 0.2])maksud nya kita dapat membuat sumbu inset \n",
        "di sudut kanan atas sumbu lain dengan mengatur posisi x dan y menjadi 0,65 (yaitu, dimulai dari 65% dari lebar dan 65% dari tinggi gambar) dan x dan y meluas menjadi 0,2 (yaitu, ukuran sumbu adalah 20% dari lebar dan 20% dari tinggi gambar):\n"
      ]
    },
    {
      "cell_type": "code",
      "metadata": {
        "colab": {
          "base_uri": "https://localhost:8080/",
          "height": 605
        },
        "id": "uFnrwHwWf-pV",
        "outputId": "aef508f2-d10b-43d6-a3c3-e339a7ef9e90"
      },
      "source": [
        "import networkx as nx\n",
        "import numpy as np\n",
        "import sys\n",
        "import time\n",
        "\n",
        "class Graph:\n",
        "    def __init__(self):\n",
        "        # dictionary containing keys that map to the corresponding vertex object\n",
        "        self.vertices = {}\n",
        " \n",
        "    def add_vertex(self, key):\n",
        "        \"\"\"Add a vertex with the given key to the graph.\"\"\"\n",
        "        vertex = Vertex(key)\n",
        "        self.vertices[key] = vertex\n",
        " \n",
        "    def get_vertex(self, key):\n",
        "        \"\"\"Return vertex object with the corresponding key.\"\"\"\n",
        "        return self.vertices[key]\n",
        " \n",
        "    def __contains__(self, key):\n",
        "        return key in self.vertices\n",
        " \n",
        "    def add_edge(self, src_key, dest_key, weight=1):\n",
        "        \"\"\"Add edge from src_key to dest_key with given weight.\"\"\"\n",
        "        self.vertices[src_key].add_neighbour(self.vertices[dest_key], weight)\n",
        " \n",
        "    def does_vertex_exist(self, key):\n",
        "        return key in self.vertices\n",
        " \n",
        "    def does_edge_exist(self, src_key, dest_key):\n",
        "        \"\"\"Return True if there is an edge from src_key to dest_key.\"\"\"\n",
        "        return self.vertices[src_key].does_it_point_to(self.vertices[dest_key])\n",
        " \n",
        "    def display(self):\n",
        "        #print('Vertices: ', end='')\n",
        "        #for v in self:\n",
        "        #    print(v.get_key(), end=' ')\n",
        "        #print()\n",
        "        list_edge = []\n",
        " \n",
        "        #print('Edges: ')\n",
        "        G_symmetric = nx.Graph()\n",
        "        tot_w = 0\n",
        "        tot_edge = 0\n",
        "        for v in self:\n",
        "            for dest in v.get_neighbours():\n",
        "                w = v.get_weight(dest)\n",
        "                if (int(v.get_key()) < int(dest.get_key())): \n",
        "                    edge = []\n",
        "                    tot_w += w\n",
        "                    tot_edge += 1\n",
        "                    edge.append(v.get_key())\n",
        "                    edge.append(dest.get_key())\n",
        "                    edge.append(w)\n",
        "                    #print('(src={}, dest={}, weight={}) '.format(v.get_key(),\n",
        "                    #                                         dest.get_key(), w))\n",
        "                    list_edge.append(edge)\n",
        "        print(\"Total nilai sapnning= %d dan jumlah edge= %d\"%(tot_w,tot_edge))\n",
        "        return list_edge\n",
        "                \n",
        "    def __len__(self):\n",
        "        return len(self.vertices)\n",
        " \n",
        "    def __iter__(self):\n",
        "        return iter(self.vertices.values())\n",
        " \n",
        " \n",
        "class Vertex:\n",
        "    def __init__(self, key):\n",
        "        self.key = key\n",
        "        self.points_to = {}\n",
        " \n",
        "    def get_key(self):\n",
        "        \"\"\"Return key corresponding to this vertex object.\"\"\"\n",
        "        return self.key\n",
        " \n",
        "    def add_neighbour(self, dest, weight):\n",
        "        \"\"\"Make this vertex point to dest with given edge weight.\"\"\"\n",
        "        self.points_to[dest] = weight\n",
        " \n",
        "    def get_neighbours(self):\n",
        "        \"\"\"Return all vertices pointed to by this vertex.\"\"\"\n",
        "        return self.points_to.keys()\n",
        " \n",
        "    def get_weight(self, dest):\n",
        "        \"\"\"Get weight of edge from this vertex to dest.\"\"\"\n",
        "        return self.points_to[dest]\n",
        " \n",
        "    def does_it_point_to(self, dest):\n",
        "        \"\"\"Return True if this vertex points to dest.\"\"\"\n",
        "        return dest in self.points_to\n",
        "\n",
        "\n",
        "def mst_krusal(g):\n",
        "    \"\"\"Return a minimum cost spanning tree of the connected graph g.\"\"\"\n",
        "    mst = Graph() # create new Graph object to hold the MST\n",
        " \n",
        "    if len(g) == 1:\n",
        "        u = next(iter(g)) # get the single vertex\n",
        "        mst.add_vertex(u.get_key()) # add a copy of it to mst\n",
        "        return mst\n",
        " \n",
        "    # get all the edges in a list\n",
        "    edges = []\n",
        "    for v in g:\n",
        "        for n in v.get_neighbours():\n",
        "            # avoid adding two edges for each edge of the undirected graph\n",
        "            if v.get_key() < n.get_key():\n",
        "                edges.append((v, n))\n",
        " \n",
        "    # sort edges\n",
        "    edges.sort(key=lambda edge: edge[0].get_weight(edge[1]))\n",
        " \n",
        "    # initially, each vertex is in its own component\n",
        "    component = {}\n",
        "    for i, v in enumerate(g):\n",
        "        component[v] = i\n",
        " \n",
        "    # next edge to try\n",
        "    edge_index = 0\n",
        " \n",
        "    # loop until mst has the same number of vertices as g\n",
        "    while len(mst) < len(g):\n",
        "        u, v = edges[edge_index]\n",
        "        edge_index += 1\n",
        " \n",
        "        # if adding edge (u, v) will not form a cycle\n",
        "        if component[u] != component[v]:\n",
        " \n",
        "            # add to mst\n",
        "            if not mst.does_vertex_exist(u.get_key()):\n",
        "                mst.add_vertex(u.get_key())\n",
        "            if not mst.does_vertex_exist(v.get_key()):\n",
        "                mst.add_vertex(v.get_key())\n",
        "            mst.add_edge(u.get_key(), v.get_key(), u.get_weight(v))\n",
        "            mst.add_edge(v.get_key(), u.get_key(), u.get_weight(v))\n",
        " \n",
        "            # merge components of u and v\n",
        "            for w in g:\n",
        "                if component[w] == component[v]:\n",
        "                    component[w] = component[u]\n",
        " \n",
        "    return mst\n",
        " \n",
        " \n",
        "g = Graph()\n",
        "print('Undirected Graph')\n",
        "print('Menu')\n",
        "print('add vertex <key>')\n",
        "print('add edge <src> <dest> <weight>')\n",
        "print('mst')\n",
        "print('display')\n",
        "print('quit')\n",
        "\n",
        "\n",
        "N = 10\n",
        "\n",
        "for i in range (0,N):\n",
        "     g.add_vertex(str(i))\n",
        "\n",
        "a = np.random.randint(2,200,(N,N), dtype=int)\n",
        "print(a)\n",
        "\n",
        "for i in range (0,N):\n",
        "     for j in range (0,N):\n",
        "         #if (i < j) :\n",
        "            g.add_edge(str(i),str(j),a[i,j])\n",
        "\n",
        "start = time.time() \n",
        "mst = mst_krusal(g)\n",
        "print('Waktu Minimum Spanning Tree:%2f'%(time.time()-start))\n",
        "l_edge = mst.display()\n",
        "G_sym = nx.Graph()\n",
        "for e in l_edge:\n",
        "    G_sym.add_edge(e[0],e[1],weight=int(e[2]))\n",
        "nx.draw_networkx(G_sym)\n",
        "\n",
        "sh_path = nx.shortest_path(G_sym,'0', str(N-1))\n",
        "G_sp = nx.Graph()\n",
        "print(\"Jalur terpendek dari node : 0 ke 9: \", sh_path)\n",
        "    \n",
        "for i in range (len(sh_path)-1):\n",
        "    v1 = g.get_vertex((sh_path[i]))\n",
        "    v2 = g.get_vertex((sh_path[i+1]))\n",
        "    print(\"weight dari \",v1.get_key(),\" ke \",v2.get_key(),\" = \",v1.get_weight(v2))\n",
        "    G_sp.add_edge(v1,v2,weight=v1.get_weight(v2))\n",
        "\n",
        "#nx.draw_networkx(G_sp)"
      ],
      "execution_count": null,
      "outputs": [
        {
          "output_type": "stream",
          "text": [
            "Undirected Graph\n",
            "Menu\n",
            "add vertex <key>\n",
            "add edge <src> <dest> <weight>\n",
            "mst\n",
            "display\n",
            "quit\n",
            "[[ 89 128  40  56  26  56  35  18   6   8]\n",
            " [151  95 159 114 127 167 107 168  19   5]\n",
            " [ 90 177  12 196 143  28  74 108  90  63]\n",
            " [  2  25  98 126 152 134 196  96 115 150]\n",
            " [ 90 134  19  65  72  48 194  75  24 196]\n",
            " [ 34 168   9   7  27   7  44  64  78 176]\n",
            " [ 15 152 156 179   5 181  20  24 197 149]\n",
            " [194 121  55  37 141  95  12  27 198 119]\n",
            " [140  86   5 153 168  60 103 122 173 152]\n",
            " [104 197 104 151  97  68  17 104 134  73]]\n",
            "Waktu Minimum Spanning Tree:0.000207\n",
            "Total nilai sapnning= 253 dan jumlah edge= 10\n",
            "Jalur terpendek dari node : 0 ke 9:  ['0', '9']\n",
            "weight dari  0  ke  9  =  8\n"
          ],
          "name": "stdout"
        },
        {
          "output_type": "display_data",
          "data": {
            "image/png": "[encoded data removed]",
            "text/plain": [
              "<Figure size 432x288 with 1 Axes>"
            ]
          },
          "metadata": {
            "tags": []
          }
        }
      ]
    },
    {
      "cell_type": "markdown",
      "metadata": {
        "id": "1Fi0DCpWitxn"
      },
      "source": [
        "#Logika Program :\n",
        "1. buatlah sebuah class Graph.\n",
        "2. Buatlah sebuah class Vertex.\n",
        "3. Setiap objek Vertex memiliki dua variabel instan, key dan points_to.\n",
        "4. kunci adalah nilai dari objek vertex\n",
        "5. points_to adalah kamus dengan kunci menjadi objek Vertex yang ditunjuk oleh objek saat ini. Setiap objek Vertex yang ditunjuk oleh objek saat ini dipetakan ke berat tepi terarah yang sesuai.\n",
        "6. Kelas Vertex menyediakan metode untuk mendapatkan kunci, untuk menambahkan tetangga, untuk mendapatkan semua tetangga, untuk mendapatkan bobot tepi berarah dan untuk menguji apakah sebuah simpul adalah tetangga dari objek Vertex saat ini.\n",
        "7. Grafik kelas memiliki satu variabel instan, simpul.\n",
        "8. simpul adalah kamus yang berisi nilai simpul yang dipetakan ke objek simpul terkait. Setiap objek Vertex juga menyimpan nilai simpul dalam variabel contoh kuncinya.\n",
        "9. Kelas Graph menyediakan metode untuk menambahkan simpul dengan kunci yang diberikan, mendapatkan objek Vertex dengan kunci yang diberikan, menguji apakah simpul dengan kunci yang diberikan ada di dalam Graph, menambahkan sebuah tepi di antara dua simpul yang diberi kunci dan bobotnya dan menguji apakah tepi ada di antara dua simpul yang diberi kuncinya. Metode __iter__ diimplementasikan untuk memungkinkan iterasi pada objek Vertex dalam grafik.\n",
        "10.Jika setiap kali tepi (u, v) ditambahkan ke graf, tepi sebaliknya (v, u) juga ditambahkan, maka ini akan menjadi implementasi graf tidak berarah.\n"
      ]
    }
  ]
}