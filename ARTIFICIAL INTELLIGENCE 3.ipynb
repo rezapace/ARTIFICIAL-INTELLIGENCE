{
  "cells": [
    {
      "cell_type": "code",
      "execution_count": null,
      "metadata": {
        "id": "GLyJGqRgIrxg"
      },
      "outputs": [],
      "source": [
        "# Cari dan analisa perbedaan waktu antara penggunaan CPU (Numpy) dengan GPU (Cupy) untuk transpos matriks. #"
      ]
    },
    {
      "cell_type": "code",
      "execution_count": null,
      "metadata": {
        "id": "K64wO98mIrxk",
        "outputId": "55588d99-c188-47e4-88b1-e7cf8b56dbec"
      },
      "outputs": [
        {
          "name": "stdout",
          "output_type": "stream",
          "text": [
            "Waktu CPU : 6.198883056640625e-05 detik\n",
            "Waktu GPU : 0.00013017654418945312 detik\n",
            "Perbandingan Waktu : -6.818771362304688e-05 detik\n",
            "================ GPU DI KURANGI WAKTU CPU ================\n"
          ]
        }
      ],
      "source": [
        "import time\n",
        "import cupy as cp\n",
        "import numpy as np\n",
        "\n",
        "A = time.time()\n",
        "B = np.array(\n",
        "[[3, 4],\n",
        "[2, 1]])\n",
        "C = (B.transpose)   \n",
        "D = time.time()\n",
        "E = D - A\n",
        "print(\"Waktu CPU :\", E , \"detik\")\n",
        "\n",
        "F = time.time()\n",
        "G = np.array(\n",
        "[[3, 4],\n",
        "[2, 1]])\n",
        "H = (G.transpose)   \n",
        "cp.cuda.Stream.null.synchronize()\n",
        "I = time.time()\n",
        "J = I - F\n",
        "print(\"Waktu GPU :\", J , \"detik\")\n",
        "\n",
        "K = J - E\n",
        "print(\"Perbandingan Waktu :\", K , \"detik\")\n",
        "print(\"================ GPU DI KURANGI WAKTU CPU ================\")"
      ]
    },
    {
      "cell_type": "code",
      "execution_count": null,
      "metadata": {
        "id": "tXj3vHXTIrxm"
      },
      "outputs": [],
      "source": []
    }
  ],
  "metadata": {
    "kernelspec": {
      "display_name": "Python 3",
      "language": "python",
      "name": "python3"
    },
    "language_info": {
      "codemirror_mode": {
        "name": "ipython",
        "version": 3
      },
      "file_extension": ".py",
      "mimetype": "text/x-python",
      "name": "python",
      "nbconvert_exporter": "python",
      "pygments_lexer": "ipython3",
      "version": "3.6.9"
    },
    "colab": {
      "provenance": []
    }
  },
  "nbformat": 4,
  "nbformat_minor": 0
}